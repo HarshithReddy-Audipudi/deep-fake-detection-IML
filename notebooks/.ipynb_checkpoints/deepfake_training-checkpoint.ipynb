{
 "cells": [
  {
   "cell_type": "code",
   "execution_count": 63,
   "id": "b2a4845d-9a83-4dcc-ba5b-20f419b1bd7e",
   "metadata": {},
   "outputs": [],
   "source": [
    "import os\n",
    "import glob\n",
    "import pandas as pd\n",
    "import numpy as np\n",
    "import matplotlib.pyplot as plt\n",
    "from PIL import Image\n",
    "from sklearn.model_selection import train_test_split\n",
    "from sklearn.metrics import classification_report, accuracy_score\n",
    "\n",
    "import torch\n",
    "import torch.nn as nn\n",
    "import torch.optim as optim\n",
    "from torch.utils.data import Dataset, DataLoader\n",
    "from torchvision import transforms, models\n"
   ]
  },
  {
   "cell_type": "code",
   "execution_count": 67,
   "id": "33df1b1d-919b-4350-9e2d-bfa05c0a285d",
   "metadata": {},
   "outputs": [
    {
     "name": "stdout",
     "output_type": "stream",
     "text": [
      "Found 5890 Real images and 7000 Fake images.\n"
     ]
    },
    {
     "data": {
      "text/html": [
       "<div>\n",
       "<style scoped>\n",
       "    .dataframe tbody tr th:only-of-type {\n",
       "        vertical-align: middle;\n",
       "    }\n",
       "\n",
       "    .dataframe tbody tr th {\n",
       "        vertical-align: top;\n",
       "    }\n",
       "\n",
       "    .dataframe thead th {\n",
       "        text-align: right;\n",
       "    }\n",
       "</style>\n",
       "<table border=\"1\" class=\"dataframe\">\n",
       "  <thead>\n",
       "    <tr style=\"text-align: right;\">\n",
       "      <th></th>\n",
       "      <th>path</th>\n",
       "      <th>label</th>\n",
       "    </tr>\n",
       "  </thead>\n",
       "  <tbody>\n",
       "    <tr>\n",
       "      <th>0</th>\n",
       "      <td>../Final Dataset/Real/02725.jpg</td>\n",
       "      <td>Real</td>\n",
       "    </tr>\n",
       "    <tr>\n",
       "      <th>1</th>\n",
       "      <td>../Final Dataset/Real/real_433_aug_0.jpg</td>\n",
       "      <td>Real</td>\n",
       "    </tr>\n",
       "    <tr>\n",
       "      <th>2</th>\n",
       "      <td>../Final Dataset/Real/real_119_aug_0.jpg</td>\n",
       "      <td>Real</td>\n",
       "    </tr>\n",
       "    <tr>\n",
       "      <th>3</th>\n",
       "      <td>../Final Dataset/Real/02043.jpg</td>\n",
       "      <td>Real</td>\n",
       "    </tr>\n",
       "    <tr>\n",
       "      <th>4</th>\n",
       "      <td>../Final Dataset/Real/real_523_aug_2.jpg</td>\n",
       "      <td>Real</td>\n",
       "    </tr>\n",
       "  </tbody>\n",
       "</table>\n",
       "</div>"
      ],
      "text/plain": [
       "                                       path label\n",
       "0           ../Final Dataset/Real/02725.jpg  Real\n",
       "1  ../Final Dataset/Real/real_433_aug_0.jpg  Real\n",
       "2  ../Final Dataset/Real/real_119_aug_0.jpg  Real\n",
       "3           ../Final Dataset/Real/02043.jpg  Real\n",
       "4  ../Final Dataset/Real/real_523_aug_2.jpg  Real"
      ]
     },
     "execution_count": 67,
     "metadata": {},
     "output_type": "execute_result"
    }
   ],
   "source": [
    "# Go up one directory from notebooks/ to Final Dataset/\n",
    "os.makedirs(\"../Final Dataset/Real\", exist_ok=True)\n",
    "os.makedirs(\"../Final Dataset/Fake\", exist_ok=True)\n",
    "\n",
    "# Grab all valid image files\n",
    "image_exts = ('.jpg', '.jpeg', '.png')\n",
    "\n",
    "real_images = [f for f in glob.glob(\"../Final Dataset/Real/*\") if f.lower().endswith(image_exts)]\n",
    "fake_images = [f for f in glob.glob(\"../Final Dataset/Fake/*\") if f.lower().endswith(image_exts)]\n",
    "\n",
    "print(f\"Found {len(real_images)} Real images and {len(fake_images)} Fake images.\")\n",
    "\n",
    "# Build DataFrame\n",
    "df_real = pd.DataFrame({'path': real_images, 'label': 'Real'})\n",
    "df_fake = pd.DataFrame({'path': fake_images, 'label': 'Fake'})\n",
    "df = pd.concat([df_real, df_fake]).reset_index(drop=True)\n",
    "\n",
    "# Save to CSV\n",
    "df.to_csv(\"../Final Dataset/dataset_rebuilt.csv\", index=False)\n",
    "df.head()\n"
   ]
  },
  {
   "cell_type": "code",
   "execution_count": 69,
   "id": "ce536a13-13fb-4085-b9f7-84fbb8000ac8",
   "metadata": {},
   "outputs": [
    {
     "name": "stdout",
     "output_type": "stream",
     "text": [
      "Label distribution:\n",
      " label\n",
      "Fake    7000\n",
      "Real    5890\n",
      "Name: count, dtype: int64\n",
      "Train size: 10312, Test size: 2578\n"
     ]
    }
   ],
   "source": [
    "df = pd.read_csv(\"../Final Dataset/dataset_rebuilt.csv\")\n",
    "\n",
    "print(\"Label distribution:\\n\", df['label'].value_counts())\n",
    "\n",
    "train_df, test_df = train_test_split(df, test_size=0.2, stratify=df['label'], random_state=42)\n",
    "print(f\"Train size: {len(train_df)}, Test size: {len(test_df)}\")\n"
   ]
  },
  {
   "cell_type": "code",
   "execution_count": 71,
   "id": "bb9cd47e-dbb5-41a8-822b-505564b1d42a",
   "metadata": {},
   "outputs": [],
   "source": [
    "class DeepfakeDataset(Dataset):\n",
    "    def __init__(self, dataframe, transform=None):\n",
    "        self.dataframe = dataframe.reset_index(drop=True)\n",
    "        self.transform = transform\n",
    "\n",
    "    def __len__(self):\n",
    "        return len(self.dataframe)\n",
    "\n",
    "    def __getitem__(self, idx):\n",
    "        img_path = self.dataframe.loc[idx, 'path']\n",
    "        image = Image.open(img_path).convert(\"RGB\")\n",
    "\n",
    "        label_str = self.dataframe.loc[idx, 'label']\n",
    "        label = 1 if label_str.lower() == 'fake' else 0\n",
    "\n",
    "        if self.transform:\n",
    "            image = self.transform(image)\n",
    "\n",
    "        return image, label\n"
   ]
  },
  {
   "cell_type": "code",
   "execution_count": 73,
   "id": "5cc9250c-36eb-4ff9-95ed-5828796e078b",
   "metadata": {},
   "outputs": [],
   "source": [
    "transform = transforms.Compose([\n",
    "    transforms.Resize((224, 224)),\n",
    "    transforms.ToTensor(),\n",
    "    transforms.Normalize([0.5]*3, [0.5]*3)\n",
    "])\n",
    "\n",
    "train_dataset = DeepfakeDataset(train_df, transform=transform)\n",
    "test_dataset = DeepfakeDataset(test_df, transform=transform)\n",
    "\n",
    "train_loader = DataLoader(train_dataset, batch_size=32, shuffle=True)\n",
    "test_loader = DataLoader(test_dataset, batch_size=32, shuffle=False)\n"
   ]
  },
  {
   "cell_type": "code",
   "execution_count": 75,
   "id": "4f94a784-e15a-4998-886a-9ef73d5ee3ba",
   "metadata": {},
   "outputs": [
    {
     "name": "stderr",
     "output_type": "stream",
     "text": [
      "/opt/anaconda3/lib/python3.12/site-packages/torchvision/models/_utils.py:208: UserWarning: The parameter 'pretrained' is deprecated since 0.13 and may be removed in the future, please use 'weights' instead.\n",
      "  warnings.warn(\n",
      "/opt/anaconda3/lib/python3.12/site-packages/torchvision/models/_utils.py:223: UserWarning: Arguments other than a weight enum or `None` for 'weights' are deprecated since 0.13 and may be removed in the future. The current behavior is equivalent to passing `weights=ResNet50_Weights.IMAGENET1K_V1`. You can also use `weights=ResNet50_Weights.DEFAULT` to get the most up-to-date weights.\n",
      "  warnings.warn(msg)\n"
     ]
    }
   ],
   "source": [
    "device = torch.device(\"cuda\" if torch.cuda.is_available() else \"cpu\")\n",
    "\n",
    "model = models.resnet50(pretrained=True)\n",
    "model.fc = nn.Linear(model.fc.in_features, 2)  # binary classification\n",
    "model = model.to(device)\n",
    "\n",
    "criterion = nn.CrossEntropyLoss()\n",
    "optimizer = optim.Adam(model.parameters(), lr=1e-4)\n"
   ]
  },
  {
   "cell_type": "code",
   "execution_count": null,
   "id": "6d54940b-cf17-4afc-a98b-549a88a66ffd",
   "metadata": {},
   "outputs": [],
   "source": [
    "train_losses = []\n",
    "val_accuracies = []\n",
    "\n",
    "for epoch in range(5):  # increase for better performance\n",
    "    model.train()\n",
    "    running_loss = 0.0\n",
    "\n",
    "    for images, labels in train_loader:\n",
    "        images, labels = images.to(device), labels.to(device)\n",
    "\n",
    "        optimizer.zero_grad()\n",
    "        outputs = model(images)\n",
    "        loss = criterion(outputs, labels)\n",
    "        loss.backward()\n",
    "        optimizer.step()\n",
    "\n",
    "        running_loss += loss.item()\n",
    "\n",
    "    train_losses.append(running_loss / len(train_loader))\n",
    "\n",
    "    # Validate\n",
    "    model.eval()\n",
    "    preds, targets = [], []\n",
    "    with torch.no_grad():\n",
    "        for images, labels in test_loader:\n",
    "            images = images.to(device)\n",
    "            outputs = model(images)\n",
    "            preds.extend(torch.argmax(outputs, 1).cpu().numpy())\n",
    "            targets.extend(labels.numpy())\n",
    "\n",
    "    acc = accuracy_score(targets, preds)\n",
    "    val_accuracies.append(acc)\n",
    "    print(f\"Epoch {epoch+1}: Loss={running_loss:.4f}, Val Acc={acc:.4f}\")\n"
   ]
  },
  {
   "cell_type": "code",
   "execution_count": null,
   "id": "31924f9b-0eab-4bdb-87b0-6f3886ecf913",
   "metadata": {},
   "outputs": [],
   "source": []
  }
 ],
 "metadata": {
  "kernelspec": {
   "display_name": "Python [conda env:base] *",
   "language": "python",
   "name": "conda-base-py"
  },
  "language_info": {
   "codemirror_mode": {
    "name": "ipython",
    "version": 3
   },
   "file_extension": ".py",
   "mimetype": "text/x-python",
   "name": "python",
   "nbconvert_exporter": "python",
   "pygments_lexer": "ipython3",
   "version": "3.12.4"
  }
 },
 "nbformat": 4,
 "nbformat_minor": 5
}
